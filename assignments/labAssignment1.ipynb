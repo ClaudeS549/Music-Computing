{
  "nbformat": 4,
  "nbformat_minor": 0,
  "metadata": {
    "colab": {
      "provenance": [],
      "include_colab_link": true
    },
    "kernelspec": {
      "name": "python3",
      "display_name": "Python 3"
    },
    "language_info": {
      "name": "python"
    }
  },
  "cells": [
    {
      "cell_type": "markdown",
      "metadata": {
        "id": "view-in-github",
        "colab_type": "text"
      },
      "source": [
        "<a href=\"https://colab.research.google.com/github/ClaudeS549/Music-Computing/blob/main/assignments/labAssignment1.ipynb\" target=\"_parent\"><img src=\"https://colab.research.google.com/assets/colab-badge.svg\" alt=\"Open In Colab\"/></a>"
      ]
    },
    {
      "cell_type": "code",
      "execution_count": 1,
      "metadata": {
        "id": "JUQi5CFCIP0k",
        "outputId": "eee127f3-fe17-49c4-bdb9-779776542171",
        "colab": {
          "base_uri": "https://localhost:8080/"
        }
      },
      "outputs": [
        {
          "output_type": "stream",
          "name": "stdout",
          "text": [
            "Cloning into 'musicComputing2025'...\n",
            "remote: Enumerating objects: 99, done.\u001b[K\n",
            "remote: Counting objects: 100% (99/99), done.\u001b[K\n",
            "remote: Compressing objects: 100% (89/89), done.\u001b[K\n",
            "remote: Total 99 (delta 41), reused 16 (delta 4), pack-reused 0 (from 0)\u001b[K\n",
            "Receiving objects: 100% (99/99), 14.65 MiB | 11.77 MiB/s, done.\n",
            "Resolving deltas: 100% (41/41), done.\n"
          ]
        }
      ],
      "source": [
        "# 1) Start by importing the necessary libraries in the first cell of the notebook\n",
        "# numpy\n",
        "import numpy as np\n",
        "import matplotlib.pyplot as plt\n",
        "import librosa\n",
        "# matplotlib\n",
        "\n",
        "# librosa\n",
        "\n",
        "\n",
        "#import audio files\n",
        "!git clone https://github.com/jcdevaney/musicComputing2025.git"
      ]
    },
    {
      "cell_type": "code",
      "source": [
        "# 2) Create a function that inputs the name of an audio file and a sampling rate\n",
        "\n",
        "def plotAudio(file,samplingRate):\n",
        "\n",
        "  # In the function you should use librosa.load() to open the specified filename\n",
        "  # with the specified sampling rate\n",
        "\n",
        "  librosa.load(file,sr=samplingRate)\n",
        "  # Use variables for the x- and y-labels\n",
        "\n",
        "\n",
        "  # The function should plot the time-domain (waveform) representation of the\n",
        "  # audio signal with time in seconds on the x-axis and amplitude on the y-axis\n",
        "\n",
        "\n",
        "  # Plot the signal\n"
      ],
      "metadata": {
        "id": "L66xJtpHwLCN"
      },
      "execution_count": 3,
      "outputs": []
    },
    {
      "cell_type": "code",
      "source": [
        "# 3) Run the function twice (in different cells)\n",
        "# First use ‘avm.wav’ as the filename with a sampling rate of 44100\n",
        "\n",
        "file = 'musicComputing2025/audioFiles/avm.wav'\n",
        "samplingRate=44100\n",
        "plotAudio(file,samplingRate)"
      ],
      "metadata": {
        "id": "dUpKDEPMw57F"
      },
      "execution_count": null,
      "outputs": []
    },
    {
      "cell_type": "code",
      "source": [
        "# Second use ‘avm.wav’ as the filename with a sampling rate of 441\n",
        "\n"
      ],
      "metadata": {
        "id": "PV9__PiGxCqJ"
      },
      "execution_count": null,
      "outputs": []
    }
  ]
}